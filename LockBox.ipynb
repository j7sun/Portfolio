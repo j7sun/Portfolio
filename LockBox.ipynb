{
 "cells": [
  {
   "cell_type": "markdown",
   "metadata": {},
   "source": [
    "# Final Project\n"
   ]
  },
  {
   "cell_type": "markdown",
   "metadata": {},
   "source": [
    "\n",
    "## Description"
   ]
  },
  {
   "cell_type": "markdown",
   "metadata": {},
   "source": [
    "Using the Tkinter Module, I was able to create a graphic user interface that imitates the lock box in a hotel room.\n",
    "A main window display is created with frame widget as the layout of the GUI and a seperate frame wideget is created \n",
    "as a space to store my code buttons. Code buttons are created with the Button widgets and their positions are organized with the grid method. When an integer button is clicked, its corresponding number will appear on the screen. This feature is accomplished with lambda function, which serves as a anonymous function that execute each button inside the click_button function. As a result, this process will return the clicked button's corresponding number on screen. The clear button is designed to clear all the input in the entry if user wants to change the code. When a 4-digit-code is typed, the user could lock the box. Then, in order to open the box, the user needs to clear the screen and type in a new code entry that matches with the orginal code before the box is locked. \n"
   ]
  },
  {
   "cell_type": "markdown",
   "metadata": {},
   "source": [
    "# Important Note\n",
    "\n",
    "The layout of the GUI is saved in my_function.py because the notebook won't execute the interface succesfully."
   ]
  },
  {
   "cell_type": "markdown",
   "metadata": {},
   "source": [
    "### Steps to use the lockbox:\n",
    "\n",
    "1. Enter in a 4-digit-code\n",
    "2. Click the 'Lock' button\n",
    "3. Clear the screen when 'LOCK' is shown on screen\n",
    "4. Enter a new 4-digit-code\n",
    "5. Click the 'Open' button"
   ]
  },
  {
   "cell_type": "code",
   "execution_count": 1,
   "metadata": {},
   "outputs": [],
   "source": [
    "# import tkinter as tk\n",
    "from My_module.my_function import *\n"
   ]
  },
  {
   "cell_type": "code",
   "execution_count": null,
   "metadata": {},
   "outputs": [],
   "source": [
    "!pytest /Users/jialunsun/ProjectFolder/My_module/*"
   ]
  },
  {
   "cell_type": "markdown",
   "metadata": {},
   "source": [
    "# Extra Credit Attempt"
   ]
  },
  {
   "cell_type": "markdown",
   "metadata": {},
   "source": [
    "In this project, I went beyond what we have learned over the course by using the tkinter module to create a graphic user interface. Specifically, I learned how to create entries and buttons with their corresponding widgets in tkinter. In addition to that, another advanced python function being used in my project is Lambda. I apply Lambda to my button widgets so that each button has its anonymous function inside the general button_clicked function that aims to execute all integer buttons. Finally, I spent lots of time using the grid method to organize the layout of my GUI so it doesn't look messy."
   ]
  }
 ],
 "metadata": {
  "kernelspec": {
   "display_name": "Python 3",
   "language": "python",
   "name": "python3"
  },
  "language_info": {
   "codemirror_mode": {
    "name": "ipython",
    "version": 3
   },
   "file_extension": ".py",
   "mimetype": "text/x-python",
   "name": "python",
   "nbconvert_exporter": "python",
   "pygments_lexer": "ipython3",
   "version": "3.7.6"
  }
 },
 "nbformat": 4,
 "nbformat_minor": 4
}
