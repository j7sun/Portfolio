{
 "cells": [
  {
   "cell_type": "markdown",
   "metadata": {},
   "source": [
    "# Final Project\n"
   ]
  },
  {
   "cell_type": "markdown",
   "metadata": {},
   "source": [
    "\n",
    "## Description"
   ]
  },
  {
   "cell_type": "markdown",
   "metadata": {},
   "source": [
    "Using the Tkinter Module, I was able to create a graphic user interface that imitates the lock box in a hotel room.\n",
    "A main window display is created with frame widget as the layout of the GUI and a seperate frame wideget is created \n",
    "as a space to store my code buttons. Code buttons are created with the Button widgets and their positions are organized with the grid method. When an integer button is clicked, its corresponding number will appear on the screen. This feature is accomplished with lambda function, which serves as a anonymous function that execute each button inside the click_button function. As a result, this process will return the clicked button's corresponding number on screen. The clear button is designed to clear all the input in the entry if user wants to change the code. When a 4-digit-code is typed, the user could lock the box. Then, in order to open the box, the user needs to clear the screen and type in a new code entry that matches with the orginal code before the box is locked. \n"
   ]
  },
  {
   "cell_type": "markdown",
   "metadata": {},
   "source": [
    "# Important Note\n",
    "\n",
    "The layout of the GUI is saved in scripts.py because the notebook won't execute the interface succesfully."
   ]
  },
  {
   "cell_type": "markdown",
   "metadata": {},
   "source": [
    "### Steps to use the lockbox:\n",
    "\n",
    "1. Enter in a 4-digit-code\n",
    "2. Click the 'Lock' button\n",
    "3. When 'LOCK' is shown on screen, Click the 'Clear' button to erase entry\n",
    "4. Enter a new 4-digit-code\n",
    "5. Click the 'Open' button"
   ]
  },
  {
   "cell_type": "code",
   "execution_count": 1,
   "metadata": {},
   "outputs": [],
   "source": [
    "# import tkinter as tk\n",
    "from My_scripts.scripts import *"
   ]
  },
  {
   "cell_type": "code",
   "execution_count": 2,
   "metadata": {},
   "outputs": [
    {
     "name": "stdout",
     "output_type": "stream",
     "text": [
      "\u001b[1m============================= test session starts ==============================\u001b[0m\n",
      "platform darwin -- Python 3.7.6, pytest-5.3.5, py-1.8.1, pluggy-0.13.1\n",
      "rootdir: /Users/jialunsun/ProjectFolder\n",
      "plugins: hypothesis-5.5.4, arraydiff-0.3, remotedata-0.3.2, openfiles-0.4.0, doctestplus-0.5.0, astropy-header-0.1.2\n",
      "collected 3 items                                                              \u001b[0m\n",
      "\n",
      "My_module/test_function.py \u001b[31mF\u001b[0m\u001b[31mF\u001b[0m\u001b[31mF\u001b[0m\u001b[31m                                           [100%]\u001b[0m\n",
      "\n",
      "=================================== FAILURES ===================================\n",
      "\u001b[31m\u001b[1m_______________________________ test_entry_limit _______________________________\u001b[0m\n",
      "\n",
      "\u001b[1m    def test_entry_limit():\u001b[0m\n",
      "\u001b[1m    \u001b[0m\n",
      "\u001b[1m        #Write multiple asserts\u001b[0m\n",
      "\u001b[1m    \u001b[0m\n",
      "\u001b[1m>       my_list = [entry_limit(1), entry_limit(2), entry_limit(3), entry_limit(4)]\u001b[0m\n",
      "\n",
      "\u001b[1m\u001b[31mMy_module/test_function.py\u001b[0m:7: \n",
      "_ _ _ _ _ _ _ _ _ _ _ _ _ _ _ _ _ _ _ _ _ _ _ _ _ _ _ _ _ _ _ _ _ _ _ _ _ _ _ _ \n",
      "\n",
      "args = (1,)\n",
      "\n",
      "\u001b[1m    def entry_limit(*args):\u001b[0m\n",
      "\u001b[1m        \"\"\"Check the length of entry and limit the number of input to 4.\u001b[0m\n",
      "\u001b[1m    \u001b[0m\n",
      "\u001b[1m        Parameters\u001b[0m\n",
      "\u001b[1m        -----------\u001b[0m\n",
      "\u001b[1m        *args: int\u001b[0m\n",
      "\u001b[1m            Integers correponding to their buttons\u001b[0m\n",
      "\u001b[1m    \u001b[0m\n",
      "\u001b[1m        Returns\u001b[0m\n",
      "\u001b[1m        -----------\u001b[0m\n",
      "\u001b[1m        output: set\u001b[0m\n",
      "\u001b[1m            A set of 4-digit-code will be the entry ouput\u001b[0m\n",
      "\u001b[1m        \"\"\"\u001b[0m\n",
      "\u001b[1m>       my_input = passcode_input.get()\u001b[0m\n",
      "\u001b[1m\u001b[31mE       NameError: name 'passcode_input' is not defined\u001b[0m\n",
      "\n",
      "\u001b[1m\u001b[31mMy_module/my_function.py\u001b[0m:17: NameError\n",
      "\u001b[31m\u001b[1m______________________________ test_click_button _______________________________\u001b[0m\n",
      "\n",
      "\u001b[1m    def test_click_button():\u001b[0m\n",
      "\u001b[1m    \u001b[0m\n",
      "\u001b[1m        #Write multiple asserts\u001b[0m\n",
      "\u001b[1m    \u001b[0m\n",
      "\u001b[1m        assert callable(click_button)\u001b[0m\n",
      "\u001b[1m>       assert isinstance(click_button(1), str)\u001b[0m\n",
      "\n",
      "\u001b[1m\u001b[31mMy_module/test_function.py\u001b[0m:19: \n",
      "_ _ _ _ _ _ _ _ _ _ _ _ _ _ _ _ _ _ _ _ _ _ _ _ _ _ _ _ _ _ _ _ _ _ _ _ _ _ _ _ \n",
      "\n",
      "tapped_code = 1\n",
      "\n",
      "\u001b[1m    def click_button(tapped_code):\u001b[0m\n",
      "\u001b[1m        \"\"\"Allow the corresponding number to appear in entry when its button is clicked.\u001b[0m\n",
      "\u001b[1m        Clear the screen before the next code input so the integers appear in order\u001b[0m\n",
      "\u001b[1m    \u001b[0m\n",
      "\u001b[1m        current_entry = passcode_entry.get()\u001b[0m\n",
      "\u001b[1m    \u001b[0m\n",
      "\u001b[1m        Parameters\u001b[0m\n",
      "\u001b[1m        ----------\u001b[0m\n",
      "\u001b[1m        tapped_code: integer\u001b[0m\n",
      "\u001b[1m            Integers correponding to their buttons\u001b[0m\n",
      "\u001b[1m    \u001b[0m\n",
      "\u001b[1m        Returns\u001b[0m\n",
      "\u001b[1m        ----------\u001b[0m\n",
      "\u001b[1m        output: string\u001b[0m\n",
      "\u001b[1m            String concatenation of the 4-digit-code after their\u001b[0m\n",
      "\u001b[1m            corresponding button is clicked.\u001b[0m\n",
      "\u001b[1m        \"\"\"\u001b[0m\n",
      "\u001b[1m    \u001b[0m\n",
      "\u001b[1m>       current_entry = passcode_entry.get()\u001b[0m\n",
      "\u001b[1m\u001b[31mE       NameError: name 'passcode_entry' is not defined\u001b[0m\n",
      "\n",
      "\u001b[1m\u001b[31mMy_module/my_function.py\u001b[0m:42: NameError\n",
      "\u001b[31m\u001b[1m_______________________________ test_lock_button _______________________________\u001b[0m\n",
      "\n",
      "\u001b[1m    def test_lock_button():\u001b[0m\n",
      "\u001b[1m    \u001b[0m\n",
      "\u001b[1m        #Write multiple asserts\u001b[0m\n",
      "\u001b[1m        assert callable(lock_button)\u001b[0m\n",
      "\u001b[1m>       assert isinstance(lock_button('mark'), str)\u001b[0m\n",
      "\u001b[1m\u001b[31mE       TypeError: lock_button() takes 0 positional arguments but 1 was given\u001b[0m\n",
      "\n",
      "\u001b[1m\u001b[31mMy_module/test_function.py\u001b[0m:28: TypeError\n",
      "\u001b[31m============================== \u001b[31m\u001b[1m3 failed\u001b[0m\u001b[31m in 0.04s\u001b[0m\u001b[31m ===============================\u001b[0m\n"
     ]
    }
   ],
   "source": [
    "!pytest /Users/jialunsun/ProjectFolder/My_module/*"
   ]
  },
  {
   "cell_type": "markdown",
   "metadata": {},
   "source": [
    "# Extra Credit Attempt"
   ]
  },
  {
   "cell_type": "markdown",
   "metadata": {},
   "source": [
    "In this project, I went beyond what we have learned over the course by using the tkinter module to create a graphic user interface. Specifically, I learned how to create entries and buttons with their corresponding widgets in tkinter. In addition to that, another advanced python function being used in my project is Lambda. I apply Lambda to my button widgets so that each button has its anonymous function inside the general button_clicked function that aims to execute all integer buttons. Finally, I spent lots of time using the grid method to organize the layout of my GUI so it doesn't look messy."
   ]
  }
 ],
 "metadata": {
  "kernelspec": {
   "display_name": "Python 3",
   "language": "python",
   "name": "python3"
  },
  "language_info": {
   "codemirror_mode": {
    "name": "ipython",
    "version": 3
   },
   "file_extension": ".py",
   "mimetype": "text/x-python",
   "name": "python",
   "nbconvert_exporter": "python",
   "pygments_lexer": "ipython3",
   "version": "3.7.6"
  }
 },
 "nbformat": 4,
 "nbformat_minor": 4
}
