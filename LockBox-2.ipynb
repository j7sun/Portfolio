{
 "cells": [
  {
   "cell_type": "markdown",
   "metadata": {},
   "source": [
    "# Final Project\n"
   ]
  },
  {
   "cell_type": "markdown",
   "metadata": {},
   "source": [
    "\n",
    "## Description"
   ]
  },
  {
   "cell_type": "markdown",
   "metadata": {},
   "source": [
    "Using the Tkinter Module, I was able to create a graphic user interface that imitates the lock box in a hotel room.\n",
    "A main window display is created with frame widget as the layout of the GUI and a seperate frame wideget is created \n",
    "as a space to store my code buttons. Code buttons are created with the Button widgets and their positions are organized with the grid method. When an integer button is clicked, its corresponding number will appear on the screen. This feature is accomplished with lambda function, which serves as a anonymous function that execute each button inside the click_button function. As a result, this process will return the clicked button's corresponding number on screen. The clear button is designed to clear all the input in the entry if user wants to change the code. When a 4-digit-code is typed, the user could lock the box. Then, in order to open the box, the user needs to clear the screen and type in a new code entry that matches with the orginal code before the box is locked. \n"
   ]
  },
  {
   "cell_type": "markdown",
   "metadata": {},
   "source": [
    "# Important Note\n",
    "\n",
    "The layout of the GUI is saved in my_function.py because the notebook won't execute the interface succesfully."
   ]
  },
  {
   "cell_type": "markdown",
   "metadata": {},
   "source": [
    "### Steps to use the lockbox:\n",
    "\n",
    "1. Enter in a 4-digit-code\n",
    "2. Click the 'Lock' button\n",
    "3. Clear the screen when 'LOCK' is shown on screen\n",
    "4. Enter a new 4-digit-code\n",
    "5. Click the 'Open' button"
   ]
  },
  {
   "cell_type": "code",
   "execution_count": 3,
   "metadata": {},
   "outputs": [
    {
     "name": "stdout",
     "output_type": "stream",
     "text": [
      "/Users/jialunsun/ProjectFolder\r\n"
     ]
    }
   ],
   "source": [
    "!pwd"
   ]
  },
  {
   "cell_type": "code",
   "execution_count": 1,
   "metadata": {},
   "outputs": [],
   "source": [
    "# import tkinter as tk\n",
    "from My_module.my_function import *\n"
   ]
  },
  {
   "cell_type": "code",
   "execution_count": 2,
   "metadata": {},
   "outputs": [
    {
     "name": "stdout",
     "output_type": "stream",
     "text": [
      "\u001b[1m============================= test session starts ==============================\u001b[0m\n",
      "platform darwin -- Python 3.7.6, pytest-5.3.5, py-1.8.1, pluggy-0.13.1\n",
      "rootdir: /Users/jialunsun/ProjectFolder\n",
      "plugins: hypothesis-5.5.4, arraydiff-0.3, remotedata-0.3.2, openfiles-0.4.0, doctestplus-0.5.0, astropy-header-0.1.2\n",
      "collected 0 items / 1 error                                                    \u001b[0m\u001b[1m\n",
      "\n",
      "==================================== ERRORS ====================================\n",
      "\u001b[31m\u001b[1m_________________ ERROR collecting My_module/test_function.py __________________\u001b[0m\n",
      "\u001b[1m\u001b[31mMy_module/test_function.py\u001b[0m:24: in <module>\n",
      "\u001b[1m    test_click_button()\u001b[0m\n",
      "\u001b[1m\u001b[31mMy_module/test_function.py\u001b[0m:21: in test_click_button\n",
      "\u001b[1m    assert isinstance(click_button(1), str)\u001b[0m\n",
      "\u001b[1m\u001b[31mMy_module/my_function.py\u001b[0m:42: in click_button\n",
      "\u001b[1m    current_entry = passcode_entry.get()\u001b[0m\n",
      "\u001b[1m\u001b[31m../opt/anaconda3/lib/python3.7/tkinter/__init__.py\u001b[0m:2682: in get\n",
      "\u001b[1m    return self.tk.call(self._w, 'get')\u001b[0m\n",
      "\u001b[1m\u001b[31mE   _tkinter.TclError: invalid command name \".!frame.!entry\"\u001b[0m\n",
      "------------------------------- Captured stderr --------------------------------\n",
      "Exception in Tkinter callback\n",
      "Traceback (most recent call last):\n",
      "  File \"/Users/jialunsun/opt/anaconda3/lib/python3.7/tkinter/__init__.py\", line 1705, in __call__\n",
      "    return self.func(*args)\n",
      "  File \"/Users/jialunsun/ProjectFolder/My_module/my_function.py\", line 90, in open_box\n",
      "    if new_code == final_entry:\n",
      "NameError: name 'final_entry' is not defined\n",
      "Exception in Tkinter callback\n",
      "Traceback (most recent call last):\n",
      "  File \"/Users/jialunsun/opt/anaconda3/lib/python3.7/tkinter/__init__.py\", line 1705, in __call__\n",
      "    return self.func(*args)\n",
      "  File \"/Users/jialunsun/ProjectFolder/My_module/my_function.py\", line 90, in open_box\n",
      "    if new_code == final_entry:\n",
      "NameError: name 'final_entry' is not defined\n",
      "Exception in Tkinter callback\n",
      "Traceback (most recent call last):\n",
      "  File \"/Users/jialunsun/opt/anaconda3/lib/python3.7/tkinter/__init__.py\", line 1705, in __call__\n",
      "    return self.func(*args)\n",
      "  File \"/Users/jialunsun/ProjectFolder/My_module/my_function.py\", line 90, in open_box\n",
      "    if new_code == final_entry:\n",
      "NameError: name 'final_entry' is not defined\n",
      "!!!!!!!!!!!!!!!!!!!! Interrupted: 1 error during collection !!!!!!!!!!!!!!!!!!!!\n",
      "\u001b[31m============================== \u001b[31m\u001b[1m1 error\u001b[0m\u001b[31m in 17.75s\u001b[0m\u001b[31m ===============================\u001b[0m\n"
     ]
    }
   ],
   "source": [
    "!pytest My_module"
   ]
  },
  {
   "cell_type": "markdown",
   "metadata": {},
   "source": [
    "# Extra Credit Attempt"
   ]
  },
  {
   "cell_type": "markdown",
   "metadata": {},
   "source": [
    "In this project, I went beyond what we have learned over the course by using the tkinter module to create a graphic user interface. Specifically, I learned how to create entries and buttons with their corresponding widgets in tkinter. In addition to that, another advanced python function being used in my project is Lambda. I apply Lambda to my button widgets so that each button has its anonymous function inside the general button_clicked function that aims to execute all integer buttons. Finally, I spent lots of time using the grid method to organize the layout of my GUI so it doesn't look messy."
   ]
  },
  {
   "cell_type": "code",
   "execution_count": null,
   "metadata": {},
   "outputs": [],
   "source": []
  }
 ],
 "metadata": {
  "kernelspec": {
   "display_name": "Python 3",
   "language": "python",
   "name": "python3"
  },
  "language_info": {
   "codemirror_mode": {
    "name": "ipython",
    "version": 3
   },
   "file_extension": ".py",
   "mimetype": "text/x-python",
   "name": "python",
   "nbconvert_exporter": "python",
   "pygments_lexer": "ipython3",
   "version": "3.7.6"
  }
 },
 "nbformat": 4,
 "nbformat_minor": 4
}
